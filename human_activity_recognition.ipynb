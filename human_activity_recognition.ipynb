{
 "cells": [
  {
   "cell_type": "markdown",
   "metadata": {},
   "source": [
    "## ML Project: Human Activity Recognition (HAR) \n",
    "\n",
    "<br>\n",
    "Huamn Activity Recognition (HAR) has emerged as a key research area because of its use for many different applications and its connection to many different fields such as medicine and human-computer interactions. For this project, we will be learning and recognizing the physical activities of humans based on wearable sensors, namely accelerometers. There is a wide range of applications for this such as elderly monitoring, assisting the sick and disabled, weight-loss programs, and more. \n",
    "\n",
    "This project will use a HAR dataset from the website: http://groupware.les.inf.puc-rio.br/har\n",
    "\n",
    "In their experiment, 165,633 data samples were gathered from 4 subjects wearing accelerometers on their waist, left thigh, right arm, and right ankle. Each of the 4 sensors will give an x-y-z direction based on their position and orientation. Features such as age and body mass index were also considered. \n",
    "\n",
    "<img src=\"http://puu.sh/yHRJ4/80c40876bd.jpg\" height=\"200\" width=\"200\">\n",
    "\n",
    "The data will be used to verify 5 activity classes: if the subject is sitting, sitting down, standing, standing up, or walking. They did not specify what was the difference between sitting/sitting down or standing/standing up. \n",
    "\n",
    "Ugulino, who worked on the project, trained a classifier using the AdaBoost method and along with the C4.5 decision tree algorithm. His classifier accuracy was 99.4%. His research paper can be found on: http://groupware.les.inf.puc-rio.br/public/papers/2012.Ugulino.WearableComputing.HAR.Classifier.RIBBON.pdf. In his paper, he also provided a chart that includes other HAR researches using different datasets, their algorithms used, and their accuracy. No sample code was provided, so we will not use anything from past projects. \n",
    "\n",
    "For our project, we will test three different algorithms: Logistic Regression with and without cross validation, Support Vector Machines, and Neural Networks"
   ]
  },
  {
   "cell_type": "markdown",
   "metadata": {},
   "source": [
    "## Load and Visualize the Data\n",
    "\n",
    "First, we import the packages that we need."
   ]
  },
  {
   "cell_type": "code",
   "execution_count": 1,
   "metadata": {
    "collapsed": true
   },
   "outputs": [],
   "source": [
    "import pandas as pd\n",
    "import numpy as np\n",
    "import matplotlib\n",
    "import matplotlib.pyplot as plt\n",
    "%matplotlib inline\n",
    "from sklearn import linear_model, preprocessing"
   ]
  },
  {
   "cell_type": "markdown",
   "metadata": {},
   "source": [
    "We will use `pd.read_csv` to load the 'HAR_data.txt' file. It can be downloaded from the website mentioned before. <br>\n",
    "It has been renamed and changed to a txt file. Note that the data is separated by semicolons.<br>\n",
    "\n",
    "The first six lines of the pandas dataframe is printed."
   ]
  },
  {
   "cell_type": "code",
   "execution_count": 2,
   "metadata": {},
   "outputs": [
    {
     "data": {
      "text/html": [
       "<div>\n",
       "<style>\n",
       "    .dataframe thead tr:only-child th {\n",
       "        text-align: right;\n",
       "    }\n",
       "\n",
       "    .dataframe thead th {\n",
       "        text-align: left;\n",
       "    }\n",
       "\n",
       "    .dataframe tbody tr th {\n",
       "        vertical-align: top;\n",
       "    }\n",
       "</style>\n",
       "<table border=\"1\" class=\"dataframe\">\n",
       "  <thead>\n",
       "    <tr style=\"text-align: right;\">\n",
       "      <th></th>\n",
       "      <th>user</th>\n",
       "      <th>gender</th>\n",
       "      <th>age</th>\n",
       "      <th>how_tall_in_meters</th>\n",
       "      <th>weight</th>\n",
       "      <th>body_mass_index</th>\n",
       "      <th>x1</th>\n",
       "      <th>y1</th>\n",
       "      <th>z1</th>\n",
       "      <th>x2</th>\n",
       "      <th>y2</th>\n",
       "      <th>z2</th>\n",
       "      <th>x3</th>\n",
       "      <th>y3</th>\n",
       "      <th>z3</th>\n",
       "      <th>x4</th>\n",
       "      <th>y4</th>\n",
       "      <th>z4</th>\n",
       "      <th>class</th>\n",
       "    </tr>\n",
       "  </thead>\n",
       "  <tbody>\n",
       "    <tr>\n",
       "      <th>0</th>\n",
       "      <td>debora</td>\n",
       "      <td>Woman</td>\n",
       "      <td>46</td>\n",
       "      <td>1.62</td>\n",
       "      <td>75</td>\n",
       "      <td>28.6</td>\n",
       "      <td>-3</td>\n",
       "      <td>92</td>\n",
       "      <td>-63</td>\n",
       "      <td>-23</td>\n",
       "      <td>18</td>\n",
       "      <td>-19</td>\n",
       "      <td>5</td>\n",
       "      <td>104</td>\n",
       "      <td>-92</td>\n",
       "      <td>-150</td>\n",
       "      <td>-103</td>\n",
       "      <td>-147</td>\n",
       "      <td>sitting</td>\n",
       "    </tr>\n",
       "    <tr>\n",
       "      <th>1</th>\n",
       "      <td>debora</td>\n",
       "      <td>Woman</td>\n",
       "      <td>46</td>\n",
       "      <td>1.62</td>\n",
       "      <td>75</td>\n",
       "      <td>28.6</td>\n",
       "      <td>-3</td>\n",
       "      <td>94</td>\n",
       "      <td>-64</td>\n",
       "      <td>-21</td>\n",
       "      <td>18</td>\n",
       "      <td>-18</td>\n",
       "      <td>-14</td>\n",
       "      <td>104</td>\n",
       "      <td>-90</td>\n",
       "      <td>-149</td>\n",
       "      <td>-104</td>\n",
       "      <td>-145</td>\n",
       "      <td>sitting</td>\n",
       "    </tr>\n",
       "    <tr>\n",
       "      <th>2</th>\n",
       "      <td>debora</td>\n",
       "      <td>Woman</td>\n",
       "      <td>46</td>\n",
       "      <td>1.62</td>\n",
       "      <td>75</td>\n",
       "      <td>28.6</td>\n",
       "      <td>-1</td>\n",
       "      <td>97</td>\n",
       "      <td>-61</td>\n",
       "      <td>-12</td>\n",
       "      <td>20</td>\n",
       "      <td>-15</td>\n",
       "      <td>-13</td>\n",
       "      <td>104</td>\n",
       "      <td>-90</td>\n",
       "      <td>-151</td>\n",
       "      <td>-104</td>\n",
       "      <td>-144</td>\n",
       "      <td>sitting</td>\n",
       "    </tr>\n",
       "    <tr>\n",
       "      <th>3</th>\n",
       "      <td>debora</td>\n",
       "      <td>Woman</td>\n",
       "      <td>46</td>\n",
       "      <td>1.62</td>\n",
       "      <td>75</td>\n",
       "      <td>28.6</td>\n",
       "      <td>-2</td>\n",
       "      <td>96</td>\n",
       "      <td>-57</td>\n",
       "      <td>-15</td>\n",
       "      <td>21</td>\n",
       "      <td>-16</td>\n",
       "      <td>-13</td>\n",
       "      <td>104</td>\n",
       "      <td>-89</td>\n",
       "      <td>-153</td>\n",
       "      <td>-103</td>\n",
       "      <td>-142</td>\n",
       "      <td>sitting</td>\n",
       "    </tr>\n",
       "    <tr>\n",
       "      <th>4</th>\n",
       "      <td>debora</td>\n",
       "      <td>Woman</td>\n",
       "      <td>46</td>\n",
       "      <td>1.62</td>\n",
       "      <td>75</td>\n",
       "      <td>28.6</td>\n",
       "      <td>-1</td>\n",
       "      <td>96</td>\n",
       "      <td>-61</td>\n",
       "      <td>-13</td>\n",
       "      <td>20</td>\n",
       "      <td>-15</td>\n",
       "      <td>-13</td>\n",
       "      <td>104</td>\n",
       "      <td>-89</td>\n",
       "      <td>-153</td>\n",
       "      <td>-104</td>\n",
       "      <td>-143</td>\n",
       "      <td>sitting</td>\n",
       "    </tr>\n",
       "    <tr>\n",
       "      <th>5</th>\n",
       "      <td>debora</td>\n",
       "      <td>Woman</td>\n",
       "      <td>46</td>\n",
       "      <td>1.62</td>\n",
       "      <td>75</td>\n",
       "      <td>28.6</td>\n",
       "      <td>-2</td>\n",
       "      <td>95</td>\n",
       "      <td>-62</td>\n",
       "      <td>-14</td>\n",
       "      <td>19</td>\n",
       "      <td>-16</td>\n",
       "      <td>-13</td>\n",
       "      <td>104</td>\n",
       "      <td>-89</td>\n",
       "      <td>-153</td>\n",
       "      <td>-104</td>\n",
       "      <td>-142</td>\n",
       "      <td>sitting</td>\n",
       "    </tr>\n",
       "  </tbody>\n",
       "</table>\n",
       "</div>"
      ],
      "text/plain": [
       "     user gender  age  how_tall_in_meters  weight  body_mass_index  x1  y1  \\\n",
       "0  debora  Woman   46                1.62      75             28.6  -3  92   \n",
       "1  debora  Woman   46                1.62      75             28.6  -3  94   \n",
       "2  debora  Woman   46                1.62      75             28.6  -1  97   \n",
       "3  debora  Woman   46                1.62      75             28.6  -2  96   \n",
       "4  debora  Woman   46                1.62      75             28.6  -1  96   \n",
       "5  debora  Woman   46                1.62      75             28.6  -2  95   \n",
       "\n",
       "   z1  x2  y2  z2  x3   y3  z3   x4   y4   z4    class  \n",
       "0 -63 -23  18 -19   5  104 -92 -150 -103 -147  sitting  \n",
       "1 -64 -21  18 -18 -14  104 -90 -149 -104 -145  sitting  \n",
       "2 -61 -12  20 -15 -13  104 -90 -151 -104 -144  sitting  \n",
       "3 -57 -15  21 -16 -13  104 -89 -153 -103 -142  sitting  \n",
       "4 -61 -13  20 -15 -13  104 -89 -153 -104 -143  sitting  \n",
       "5 -62 -14  19 -16 -13  104 -89 -153 -104 -142  sitting  "
      ]
     },
     "execution_count": 2,
     "metadata": {},
     "output_type": "execute_result"
    }
   ],
   "source": [
    "df = pd.read_csv('HAR_data.txt', header=0, sep=';', decimal=',')\n",
    "\n",
    "df.head(6)"
   ]
  },
  {
   "cell_type": "markdown",
   "metadata": {},
   "source": [
    "The features we will use to predict the class are age, BMI which is based on height and weight, and the orientation of the 4 sensors. Extract the features to a matrix X and standardize it to Xs.\n",
    "\n",
    "The 5 classes will be converted to numbers 0 to 4 and extracted to target variable y.\n",
    "<br>\n",
    "0 = sitting, 1 = sitting down, 2 = standing, 3 = standing up, 4 = walking"
   ]
  },
  {
   "cell_type": "code",
   "execution_count": 3,
   "metadata": {},
   "outputs": [
    {
     "name": "stdout",
     "output_type": "stream",
     "text": [
      "Number of samples = 165633, Number of attributes: 14\n"
     ]
    }
   ],
   "source": [
    "xnames = ['age','body_mass_index','x1','y1','z1','x2','y2','z2','x3','y3','z3','x4','y4','z4']\n",
    "X = np.array(df[xnames])\n",
    "Xs = preprocessing.scale(X)\n",
    "\n",
    "y = np.unique(df['class'],return_inverse=True)[1]\n",
    "\n",
    "nsamp = X.shape[0]\n",
    "natt = X.shape[1]\n",
    "print(\"Number of samples = %d, Number of attributes: %d\" %(nsamp,natt))"
   ]
  },
  {
   "cell_type": "markdown",
   "metadata": {},
   "source": [
    "## Logistic Regression \n",
    "First we will use logistic regression and measure the accuracy on the training data without cross validation. \n",
    "<br>\n",
    "Create a `LogisticRegression` object and fit the training data."
   ]
  },
  {
   "cell_type": "code",
   "execution_count": 4,
   "metadata": {},
   "outputs": [
    {
     "data": {
      "text/plain": [
       "LogisticRegression(C=100000.0, class_weight=None, dual=False,\n",
       "          fit_intercept=True, intercept_scaling=1, max_iter=100,\n",
       "          multi_class='ovr', n_jobs=1, penalty='l2', random_state=None,\n",
       "          solver='liblinear', tol=0.0001, verbose=0, warm_start=False)"
      ]
     },
     "execution_count": 4,
     "metadata": {},
     "output_type": "execute_result"
    }
   ],
   "source": [
    "logreg = linear_model.LogisticRegression(C=1e5)\n",
    "logreg.fit(Xs,y)\n"
   ]
  },
  {
   "cell_type": "markdown",
   "metadata": {},
   "source": [
    "Measure the accuracy of the classifier. We will see that the accuracy is bad, so we will use cross validation on training and test data later on."
   ]
  },
  {
   "cell_type": "code",
   "execution_count": 5,
   "metadata": {},
   "outputs": [
    {
     "name": "stdout",
     "output_type": "stream",
     "text": [
      "Accuracy = 0.827697\n"
     ]
    }
   ],
   "source": [
    "yhat = logreg.predict(Xs)\n",
    "acc = np.mean(yhat==y)\n",
    "print(\"Accuracy = %f\" %acc)"
   ]
  },
  {
   "cell_type": "markdown",
   "metadata": {},
   "source": [
    "## Interpreting the Weight Vector \n",
    "First we will look at the weight of each attribute and plot them."
   ]
  },
  {
   "cell_type": "code",
   "execution_count": 6,
   "metadata": {},
   "outputs": [
    {
     "data": {
      "text/plain": [
       "<Container object of 3 artists>"
      ]
     },
     "execution_count": 6,
     "metadata": {},
     "output_type": "execute_result"
    },
    {
     "data": {
      "image/png": "[encoded data removed]",
      "text/plain": [
       "<matplotlib.figure.Figure at 0x1e2d4dbdf28>"
      ]
     },
     "metadata": {},
     "output_type": "display_data"
    }
   ],
   "source": [
    "w = logreg.coef_[0]\n",
    "plt.stem(w)"
   ]
  },
  {
   "cell_type": "markdown",
   "metadata": {},
   "source": [
    "We will find the three attributes with the highest magnitude weight. \n",
    "<br> \n",
    "It turns out that y2, x2,and z2 has the largest weight, so the orientation of sensor 2 (accelerometer put on the left thigh) has a huge affect on the outcome."
   ]
  },
  {
   "cell_type": "code",
   "execution_count": 7,
   "metadata": {},
   "outputs": [
    {
     "name": "stdout",
     "output_type": "stream",
     "text": [
      "The three attributes with the largest |weight| is: y2, x2, and z2\n"
     ]
    }
   ],
   "source": [
    "wmag = np.absolute(w)\n",
    "ind = np.argsort(wmag)[-3:]\n",
    "\n",
    "print(\"The three attributes with the largest |weight| is: %s, %s, and %s\" %(xnames[ind[0]],xnames[ind[1]],xnames[ind[2]]))"
   ]
  },
  {
   "cell_type": "markdown",
   "metadata": {},
   "source": [
    "## Cross Validation\n",
    "Next we will perform a 10-fold cross validation on training and test sets. Shuffle the data since the classes are bunched together. \n",
    "<br>\n",
    "Create a confusion matrix C by measuring and adding the confusion matrix across all folds. Normalize the rows of the matrix. \n",
    "<br>\n",
    "Print the overall mean and SE of the test error rate across the folds."
   ]
  },
  {
   "cell_type": "code",
   "execution_count": 8,
   "metadata": {},
   "outputs": [
    {
     "name": "stdout",
     "output_type": "stream",
     "text": [
      "[[ 0.99999  0.       0.       0.00001  0.     ]\n",
      " [ 0.01546  0.74248  0.17773  0.05009  0.01424]\n",
      " [ 0.       0.00004  0.98434  0.       0.01562]\n",
      " [ 0.00968  0.05599  0.13769  0.76661  0.03003]\n",
      " [ 0.       0.00008  0.07547  0.00053  0.92392]]\n",
      "\n",
      "Error rate mean = 0.1724, SE = 0.0009\n"
     ]
    },
    {
     "data": {
      "image/png": "[encoded data removed]",
      "text/plain": [
       "<matplotlib.figure.Figure at 0x1e2d60cfb38>"
      ]
     },
     "metadata": {},
     "output_type": "display_data"
    }
   ],
   "source": [
    "from sklearn.metrics import confusion_matrix\n",
    "from sklearn.model_selection import KFold\n",
    "\n",
    "nfold = 10 \n",
    "kf = KFold(n_splits=nfold, shuffle=True) \n",
    "\n",
    "C = np.zeros((5,5))\n",
    "err_rate = np.zeros(nfold)\n",
    "\n",
    "for ifold, Ind in enumerate(kf.split(Xs)):\n",
    "    \n",
    "    Itr,Its, = Ind\n",
    "    Xtr = Xs[Itr,:]\n",
    "    ytr = y[Itr]\n",
    "    Xts = Xs[Its,:]\n",
    "    yts = y[Its]\n",
    "    \n",
    "    logreg.fit(Xtr,ytr)\n",
    "    yhat = logreg.predict(Xts)\n",
    "    \n",
    "    C = C + confusion_matrix(yts,yhat)\n",
    "    err_rate[ifold] = np.mean(yhat != yts)\n",
    "\n",
    "Cnorm = preprocessing.normalize(C,axis=1)\n",
    "Cnorm = np.square(Cnorm) \n",
    "\n",
    "print(np.array_str(Cnorm, precision=5, suppress_small=True))\n",
    "plt.imshow(Cnorm, interpolation='none')\n",
    "plt.colorbar()\n",
    "\n",
    "err_mean = np.mean(err_rate)\n",
    "err_se = np.std(err_rate)/np.sqrt(nfold-1)\n",
    "\n",
    "print('')\n",
    "print(\"Error rate mean = {0:.4f}, SE = {1:.4f}\".format(err_mean, err_se))\n"
   ]
  },
  {
   "cell_type": "markdown",
   "metadata": {},
   "source": [
    "The accuracy seems pretty good for classes 0,2, and 4 (92%+) but not for classes 1 and 3 (~75%). \n",
    "<br>\n",
    "The error is probably because there are a lot less samples for classes 1 and 3. (sitting down and standing up)\n",
    "<br>\n",
    "Next we will use Support Vector Machines to get a better accuracy.  "
   ]
  },
  {
   "cell_type": "markdown",
   "metadata": {},
   "source": [
    "## Support Vector Machine (SVM):\n",
    "Create a SVM classifer. Use an \"rbf\" classifier with C=2.8 and gamma=0.0073."
   ]
  },
  {
   "cell_type": "code",
   "execution_count": 9,
   "metadata": {
    "collapsed": true
   },
   "outputs": [],
   "source": [
    "from sklearn import svm\n",
    "\n",
    "svc = svm.SVC(probability=False, kernel='rbf', C=2.8, gamma=.0073,verbose=10)"
   ]
  },
  {
   "cell_type": "markdown",
   "metadata": {},
   "source": [
    "We will use about half of the samples for training and half for testing. Randomly select them. "
   ]
  },
  {
   "cell_type": "code",
   "execution_count": 10,
   "metadata": {
    "collapsed": true
   },
   "outputs": [],
   "source": [
    "ntr = 80000\n",
    "nts = 80000\n",
    "ns = ntr + nts \n",
    "\n",
    "Iperm = np.random.permutation(nsamp)\n",
    "\n",
    "Xtr = Xs[Iperm[:ntr],:]\n",
    "ytr = y[Iperm[:ntr]]\n",
    "Xts = Xs[Iperm[ntr:ns],:]\n",
    "yts = y[Iperm[ntr:ns]]\n"
   ]
  },
  {
   "cell_type": "markdown",
   "metadata": {},
   "source": [
    "Fit the training data. The fitting and predicting commands will take a few minutes since there are 160,000 samples."
   ]
  },
  {
   "cell_type": "code",
   "execution_count": 11,
   "metadata": {},
   "outputs": [
    {
     "name": "stdout",
     "output_type": "stream",
     "text": [
      "[LibSVM]"
     ]
    },
    {
     "data": {
      "text/plain": [
       "SVC(C=2.8, cache_size=200, class_weight=None, coef0=0.0,\n",
       "  decision_function_shape=None, degree=3, gamma=0.0073, kernel='rbf',\n",
       "  max_iter=-1, probability=False, random_state=None, shrinking=True,\n",
       "  tol=0.001, verbose=10)"
      ]
     },
     "execution_count": 11,
     "metadata": {},
     "output_type": "execute_result"
    }
   ],
   "source": [
    "svc.fit(Xtr,ytr)"
   ]
  },
  {
   "cell_type": "markdown",
   "metadata": {},
   "source": [
    "Measure the accuracy on the test samples. "
   ]
  },
  {
   "cell_type": "code",
   "execution_count": 12,
   "metadata": {},
   "outputs": [
    {
     "name": "stdout",
     "output_type": "stream",
     "text": [
      "Accuracy = 0.947738\n"
     ]
    }
   ],
   "source": [
    "yhat = svc.predict(Xts)\n",
    "accuracy = np.mean(yhat==yts)\n",
    "print(\"Accuracy = %f\" %accuracy)\n"
   ]
  },
  {
   "cell_type": "markdown",
   "metadata": {},
   "source": [
    "Print the normalized confusion matrix."
   ]
  },
  {
   "cell_type": "code",
   "execution_count": 13,
   "metadata": {},
   "outputs": [
    {
     "name": "stderr",
     "output_type": "stream",
     "text": [
      "C:\\Users\\Teddy\\Anaconda3\\lib\\site-packages\\sklearn\\utils\\validation.py:429: DataConversionWarning: Data with input dtype int32 was converted to float64 by the normalize function.\n",
      "  warnings.warn(msg, _DataConversionWarning)\n"
     ]
    },
    {
     "name": "stdout",
     "output_type": "stream",
     "text": [
      "[[ 0.99999  0.       0.       0.00001  0.     ]\n",
      " [ 0.00059  0.99439  0.00361  0.00137  0.00005]\n",
      " [ 0.       0.       0.99984  0.       0.00016]\n",
      " [ 0.0004   0.00664  0.02573  0.9669   0.00033]\n",
      " [ 0.       0.00006  0.00607  0.00004  0.99383]]\n"
     ]
    },
    {
     "data": {
      "text/plain": [
       "<matplotlib.colorbar.Colorbar at 0x1e2d618de48>"
      ]
     },
     "execution_count": 13,
     "metadata": {},
     "output_type": "execute_result"
    },
    {
     "data": {
      "image/png": "[encoded data removed]",
      "text/plain": [
       "<matplotlib.figure.Figure at 0x1e2d605cc50>"
      ]
     },
     "metadata": {},
     "output_type": "display_data"
    }
   ],
   "source": [
    "C2 = confusion_matrix(yts,yhat)\n",
    "\n",
    "Cnorm2 = preprocessing.normalize(C2,axis=1)\n",
    "Cnorm2 = np.square(Cnorm2) \n",
    "\n",
    "print(np.array_str(Cnorm2, precision=5, suppress_small=True))\n",
    "plt.imshow(Cnorm2, interpolation='none')\n",
    "plt.colorbar()"
   ]
  },
  {
   "cell_type": "markdown",
   "metadata": {},
   "source": [
    "We see that the accuracy of the classifier is about 95%, which is much better than before. \n",
    "<br> \n",
    "To get an even better accuracy, we can try neural networks. "
   ]
  },
  {
   "cell_type": "markdown",
   "metadata": {},
   "source": [
    "## Neural Network Classifier:\n",
    "Load the keras packages. "
   ]
  },
  {
   "cell_type": "code",
   "execution_count": 14,
   "metadata": {},
   "outputs": [
    {
     "name": "stderr",
     "output_type": "stream",
     "text": [
      "Using TensorFlow backend.\n"
     ]
    }
   ],
   "source": [
    "import keras \n",
    "\n",
    "from keras.models import Model, Sequential\n",
    "from keras.layers import Dense, Activation"
   ]
  },
  {
   "cell_type": "markdown",
   "metadata": {},
   "source": [
    "Clear previous model layers."
   ]
  },
  {
   "cell_type": "code",
   "execution_count": 15,
   "metadata": {
    "collapsed": true
   },
   "outputs": [],
   "source": [
    "import keras.backend as K\n",
    "K.clear_session()"
   ]
  },
  {
   "cell_type": "markdown",
   "metadata": {},
   "source": [
    "Like before, use 80,000 samples as training and test set. Scale the feature matrix."
   ]
  },
  {
   "cell_type": "code",
   "execution_count": 16,
   "metadata": {
    "collapsed": true
   },
   "outputs": [],
   "source": [
    "Xtr = X[Iperm[:ntr],:]\n",
    "ytr = y[Iperm[:ntr]]\n",
    "Xts = X[Iperm[ntr:ns],:]\n",
    "yts = y[Iperm[ntr:ns]]\n",
    "\n",
    "X_mean = np.mean(Xtr,axis=0)\n",
    "X_std = np.std(Xtr,axis=0)\n",
    "\n",
    "Xtr_scale = (Xtr - X_mean)/ X_std\n",
    "Xts_scale = (Xts - X_mean)/ X_std\n"
   ]
  },
  {
   "cell_type": "markdown",
   "metadata": {},
   "source": [
    "Create a neural network model with: \n",
    "* nh = 256 hidden units \n",
    "* sigmoid activation\n",
    "* output activation as softmax for multi-class targets"
   ]
  },
  {
   "cell_type": "code",
   "execution_count": 17,
   "metadata": {
    "collapsed": true
   },
   "outputs": [],
   "source": [
    "nin = Xtr.shape[1]\n",
    "nout = np.max(ytr)+1  # 5 classes\n",
    "nh = 256\n",
    "\n",
    "model = Sequential()\n",
    "model.add(Dense(nh, input_shape=(nin,), activation='sigmoid', name='hidden'))\n",
    "model.add(Dense(nout, activation = 'softmax', name='output'))"
   ]
  },
  {
   "cell_type": "code",
   "execution_count": 18,
   "metadata": {},
   "outputs": [
    {
     "name": "stdout",
     "output_type": "stream",
     "text": [
      "_________________________________________________________________\n",
      "Layer (type)                 Output Shape              Param #   \n",
      "=================================================================\n",
      "hidden (Dense)               (None, 256)               3840      \n",
      "_________________________________________________________________\n",
      "output (Dense)               (None, 5)                 1285      \n",
      "=================================================================\n",
      "Total params: 5,125\n",
      "Trainable params: 5,125\n",
      "Non-trainable params: 0\n",
      "_________________________________________________________________\n"
     ]
    }
   ],
   "source": [
    "model.summary()"
   ]
  },
  {
   "cell_type": "markdown",
   "metadata": {},
   "source": [
    "Create an optimizer and compile the model. Use the Adam optimizer with a learning rate of 0.001."
   ]
  },
  {
   "cell_type": "code",
   "execution_count": 19,
   "metadata": {
    "collapsed": true
   },
   "outputs": [],
   "source": [
    "from keras import optimizers \n",
    "\n",
    "opt = optimizers.Adam(lr=0.001)\n",
    "model.compile(optimizer=opt,\n",
    "             loss ='sparse_categorical_crossentropy',\n",
    "             metrics = ['accuracy'])"
   ]
  },
  {
   "cell_type": "markdown",
   "metadata": {},
   "source": [
    "Fit the model for 10 epochs using the scaled data for both training and validation. Use a batch size of 100.  "
   ]
  },
  {
   "cell_type": "code",
   "execution_count": 20,
   "metadata": {},
   "outputs": [
    {
     "name": "stdout",
     "output_type": "stream",
     "text": [
      "Train on 80000 samples, validate on 80000 samples\n",
      "Epoch 1/10\n",
      "80000/80000 [==============================] - 9s 111us/step - loss: 0.6503 - acc: 0.7807 - val_loss: 0.4979 - val_acc: 0.8294\n",
      "Epoch 2/10\n",
      "80000/80000 [==============================] - 8s 96us/step - loss: 0.4561 - acc: 0.8399 - val_loss: 0.4279 - val_acc: 0.8431\n",
      "Epoch 3/10\n",
      "80000/80000 [==============================] - 8s 94us/step - loss: 0.3612 - acc: 0.8781 - val_loss: 0.3197 - val_acc: 0.8957\n",
      "Epoch 4/10\n",
      "80000/80000 [==============================] - 8s 95us/step - loss: 0.2811 - acc: 0.9118 - val_loss: 0.2533 - val_acc: 0.9206\n",
      "Epoch 5/10\n",
      "80000/80000 [==============================] - 8s 97us/step - loss: 0.2323 - acc: 0.9277 - val_loss: 0.2147 - val_acc: 0.9346\n",
      "Epoch 6/10\n",
      "80000/80000 [==============================] - 8s 95us/step - loss: 0.1985 - acc: 0.9389 - val_loss: 0.1869 - val_acc: 0.9444\n",
      "Epoch 7/10\n",
      "80000/80000 [==============================] - 8s 95us/step - loss: 0.1722 - acc: 0.9468 - val_loss: 0.1625 - val_acc: 0.9493\n",
      "Epoch 8/10\n",
      "80000/80000 [==============================] - 8s 95us/step - loss: 0.1509 - acc: 0.9536 - val_loss: 0.1427 - val_acc: 0.9565\n",
      "Epoch 9/10\n",
      "80000/80000 [==============================] - 8s 95us/step - loss: 0.1335 - acc: 0.9602 - val_loss: 0.1294 - val_acc: 0.9633\n",
      "Epoch 10/10\n",
      "80000/80000 [==============================] - 8s 95us/step - loss: 0.1191 - acc: 0.9647 - val_loss: 0.1142 - val_acc: 0.9664\n"
     ]
    },
    {
     "data": {
      "text/plain": [
       "<keras.callbacks.History at 0x1e2ded7dc18>"
      ]
     },
     "execution_count": 20,
     "metadata": {},
     "output_type": "execute_result"
    }
   ],
   "source": [
    "batch_size = 100\n",
    "\n",
    "model.fit(Xtr_scale, ytr, epochs=10, batch_size=batch_size, validation_data=(Xts_scale,yts))"
   ]
  },
  {
   "cell_type": "markdown",
   "metadata": {},
   "source": [
    "The accuracy should be around 96% after 10 epochs. We can fit the model again for another 10 epochs for a greater accuracy. "
   ]
  },
  {
   "cell_type": "code",
   "execution_count": 21,
   "metadata": {},
   "outputs": [
    {
     "name": "stdout",
     "output_type": "stream",
     "text": [
      "Train on 80000 samples, validate on 80000 samples\n",
      "Epoch 1/10\n",
      "80000/80000 [==============================] - 8s 94us/step - loss: 0.1072 - acc: 0.9685 - val_loss: 0.1051 - val_acc: 0.9692\n",
      "Epoch 2/10\n",
      "80000/80000 [==============================] - 8s 94us/step - loss: 0.0974 - acc: 0.9719 - val_loss: 0.0946 - val_acc: 0.9734\n",
      "Epoch 3/10\n",
      "80000/80000 [==============================] - 8s 99us/step - loss: 0.0892 - acc: 0.9742 - val_loss: 0.0895 - val_acc: 0.9740\n",
      "Epoch 4/10\n",
      "80000/80000 [==============================] - 8s 95us/step - loss: 0.0826 - acc: 0.9765 - val_loss: 0.0837 - val_acc: 0.9756\n",
      "Epoch 5/10\n",
      "80000/80000 [==============================] - 8s 94us/step - loss: 0.0767 - acc: 0.9778 - val_loss: 0.0773 - val_acc: 0.9775\n",
      "Epoch 6/10\n",
      "80000/80000 [==============================] - 8s 95us/step - loss: 0.0721 - acc: 0.9792 - val_loss: 0.0724 - val_acc: 0.9790\n",
      "Epoch 7/10\n",
      "80000/80000 [==============================] - 8s 94us/step - loss: 0.0676 - acc: 0.9807 - val_loss: 0.0680 - val_acc: 0.9804\n",
      "Epoch 8/10\n",
      "80000/80000 [==============================] - 8s 100us/step - loss: 0.0639 - acc: 0.9815 - val_loss: 0.0672 - val_acc: 0.9793\n",
      "Epoch 9/10\n",
      "80000/80000 [==============================] - 8s 95us/step - loss: 0.0606 - acc: 0.9828 - val_loss: 0.0614 - val_acc: 0.9817\n",
      "Epoch 10/10\n",
      "80000/80000 [==============================] - 8s 96us/step - loss: 0.0575 - acc: 0.9834 - val_loss: 0.0596 - val_acc: 0.9819\n"
     ]
    },
    {
     "data": {
      "text/plain": [
       "<keras.callbacks.History at 0x1e2ec3acf98>"
      ]
     },
     "execution_count": 21,
     "metadata": {},
     "output_type": "execute_result"
    }
   ],
   "source": [
    "model.fit(Xtr_scale, ytr, epochs=10, batch_size=batch_size, validation_data=(Xts_scale,yts))"
   ]
  },
  {
   "cell_type": "markdown",
   "metadata": {},
   "source": [
    "After another 10 epochs, the accuracy increased to 98%. "
   ]
  },
  {
   "cell_type": "markdown",
   "metadata": {},
   "source": [
    "## Evaluation\n",
    "It seems like for HAR projects like this, neural networks work better than SVMs. In the chart of previous HAR researches, the highest NN accuracy was 99.6% and highest for SVM alone was 98.1%. When SVM was used together with other algorithms like Naive Bayes, the accuracy was as high as 99.4%. \n",
    "<br> \n",
    "\n",
    "Since the accuracy is this high for several classifiers, future works can include more classes so that we can predict more types of movements. The goal of the future is to monitor every single movements with the least amount of sensors and displaying it on a screen."
   ]
  },
  {
   "cell_type": "code",
   "execution_count": null,
   "metadata": {
    "collapsed": true
   },
   "outputs": [],
   "source": []
  }
 ],
 "metadata": {
  "kernelspec": {
   "display_name": "Python 3",
   "language": "python",
   "name": "python3"
  },
  "language_info": {
   "codemirror_mode": {
    "name": "ipython",
    "version": 3
   },
   "file_extension": ".py",
   "mimetype": "text/x-python",
   "name": "python",
   "nbconvert_exporter": "python",
   "pygments_lexer": "ipython3",
   "version": "3.6.1"
  }
 },
 "nbformat": 4,
 "nbformat_minor": 2
}
